{
 "cells": [
  {
   "cell_type": "code",
   "execution_count": 2,
   "metadata": {},
   "outputs": [],
   "source": [
    "import tensorflow as tf\n",
    "import numpy as np\n",
    "import pandas as pd"
   ]
  },
  {
   "cell_type": "code",
   "execution_count": 5,
   "metadata": {},
   "outputs": [
    {
     "name": "stdout",
     "output_type": "stream",
     "text": [
      "0 [0.009999989, 0.009999994]\n",
      "20 [0.17135637, 0.17452112]\n",
      "40 [0.16081004, 0.18182881]\n",
      "60 [0.1316328, 0.17235692]\n",
      "80 [0.12923867, 0.18670438]\n",
      "100 [0.11725991, 0.18883578]\n",
      "120 [0.11170727, 0.19369994]\n",
      "140 [0.106695324, 0.19598614]\n",
      "160 [0.10384089, 0.19784491]\n",
      "180 [0.10198178, 0.19884303]\n",
      "200 [0.100972705, 0.19944286]\n"
     ]
    }
   ],
   "source": [
    "x_data = np.random.rand(100)\n",
    "y_data = x_data*0.1+0.2;\n",
    "\n",
    "#构造线性模型\n",
    "b = tf.Variable(0.)\n",
    "k = tf.Variable(0.)\n",
    "y=k*x_data+b\n",
    "\n",
    "#二次代价函数 均方误差\n",
    "loss = tf.reduce_mean(tf.square(y_data-y))\n",
    "#定义一个梯度下降法来进行训练优化器\n",
    "optimizer = tf.train.AdamOptimizer(0.01)\n",
    "#最小化代价函数\n",
    "train = optimizer.minimize(loss)\n",
    "\n",
    "init = tf.global_variables_initializer()\n",
    "\n",
    "with tf.Session() as sess:\n",
    "    sess.run(init)\n",
    "    for step in range(201):\n",
    "        sess.run(train)\n",
    "        if step % 20 == 0:\n",
    "            print(step,sess.run([k,b]))"
   ]
  }
 ],
 "metadata": {
  "kernelspec": {
   "display_name": "Python 3",
   "language": "python",
   "name": "python3"
  },
  "language_info": {
   "codemirror_mode": {
    "name": "ipython",
    "version": 3
   },
   "file_extension": ".py",
   "mimetype": "text/x-python",
   "name": "python",
   "nbconvert_exporter": "python",
   "pygments_lexer": "ipython3",
   "version": "3.6.8"
  },
  "toc": {
   "base_numbering": 1,
   "nav_menu": {},
   "number_sections": true,
   "sideBar": true,
   "skip_h1_title": false,
   "title_cell": "Table of Contents",
   "title_sidebar": "Contents",
   "toc_cell": false,
   "toc_position": {},
   "toc_section_display": true,
   "toc_window_display": false
  }
 },
 "nbformat": 4,
 "nbformat_minor": 2
}
